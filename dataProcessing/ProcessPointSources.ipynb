{
 "cells": [
  {
   "cell_type": "markdown",
   "id": "0b78d2a6",
   "metadata": {},
   "source": [
    "# Extract Data from WebFire Point Sources    "
   ]
  },
  {
   "cell_type": "code",
   "execution_count": 1,
   "id": "12ccc5c9",
   "metadata": {},
   "outputs": [],
   "source": [
    "import pandas as pd"
   ]
  },
  {
   "cell_type": "markdown",
   "id": "22457282",
   "metadata": {},
   "source": [
    "#### Read the data into a Pandas DataFrame\n",
    "df = pd.read_csv('../Resources/WebFIRE-BULK-DATA-ST-05-10-2023.csv')\n",
    "df.head()\n"
   ]
  },
  {
   "cell_type": "markdown",
   "id": "fd7884c6",
   "metadata": {},
   "source": [
    "###### df.info()"
   ]
  },
  {
   "cell_type": "code",
   "execution_count": 4,
   "id": "8bb1497f",
   "metadata": {},
   "outputs": [
    {
     "data": {
      "text/html": [
       "<div>\n",
       "<style scoped>\n",
       "    .dataframe tbody tr th:only-of-type {\n",
       "        vertical-align: middle;\n",
       "    }\n",
       "\n",
       "    .dataframe tbody tr th {\n",
       "        vertical-align: top;\n",
       "    }\n",
       "\n",
       "    .dataframe thead th {\n",
       "        text-align: right;\n",
       "    }\n",
       "</style>\n",
       "<table border=\"1\" class=\"dataframe\">\n",
       "  <thead>\n",
       "    <tr style=\"text-align: right;\">\n",
       "      <th></th>\n",
       "      <th>Facility_Name</th>\n",
       "      <th>Facility_City</th>\n",
       "      <th>Facility_State</th>\n",
       "      <th>Facility_County</th>\n",
       "      <th>Facility_Zip_Code</th>\n",
       "      <th>Facility_Latitude</th>\n",
       "      <th>Facility_Longitude</th>\n",
       "      <th>Pollutant_Name</th>\n",
       "      <th>Test_Run_Date</th>\n",
       "    </tr>\n",
       "  </thead>\n",
       "  <tbody>\n",
       "    <tr>\n",
       "      <th>0</th>\n",
       "      <td>AK Steel, Inc.</td>\n",
       "      <td>Middletown</td>\n",
       "      <td>OH</td>\n",
       "      <td>US</td>\n",
       "      <td>45043</td>\n",
       "      <td>NaN</td>\n",
       "      <td>NaN</td>\n",
       "      <td>Hydrogen Chloride</td>\n",
       "      <td>2016-11-23T00:00:00</td>\n",
       "    </tr>\n",
       "    <tr>\n",
       "      <th>1</th>\n",
       "      <td>AK Steel, Inc.</td>\n",
       "      <td>Middletown</td>\n",
       "      <td>OH</td>\n",
       "      <td>US</td>\n",
       "      <td>45043</td>\n",
       "      <td>NaN</td>\n",
       "      <td>NaN</td>\n",
       "      <td>Hydrogen Chloride</td>\n",
       "      <td>2016-11-23T00:00:00</td>\n",
       "    </tr>\n",
       "    <tr>\n",
       "      <th>2</th>\n",
       "      <td>AK Steel, Inc.</td>\n",
       "      <td>Middletown</td>\n",
       "      <td>OH</td>\n",
       "      <td>US</td>\n",
       "      <td>45043</td>\n",
       "      <td>NaN</td>\n",
       "      <td>NaN</td>\n",
       "      <td>Hydrogen Chloride</td>\n",
       "      <td>2016-11-23T00:00:00</td>\n",
       "    </tr>\n",
       "    <tr>\n",
       "      <th>3</th>\n",
       "      <td>Agrium CPO</td>\n",
       "      <td>Soda Springs</td>\n",
       "      <td>ID</td>\n",
       "      <td>Caribou Co</td>\n",
       "      <td>83276</td>\n",
       "      <td>NaN</td>\n",
       "      <td>NaN</td>\n",
       "      <td>Total Fluoride</td>\n",
       "      <td>2016-03-24T00:00:00</td>\n",
       "    </tr>\n",
       "    <tr>\n",
       "      <th>4</th>\n",
       "      <td>Agrium CPO</td>\n",
       "      <td>Soda Springs</td>\n",
       "      <td>ID</td>\n",
       "      <td>Caribou Co</td>\n",
       "      <td>83276</td>\n",
       "      <td>NaN</td>\n",
       "      <td>NaN</td>\n",
       "      <td>Total Fluoride</td>\n",
       "      <td>2016-03-24T00:00:00</td>\n",
       "    </tr>\n",
       "  </tbody>\n",
       "</table>\n",
       "</div>"
      ],
      "text/plain": [
       "    Facility_Name Facility_City Facility_State Facility_County  \\\n",
       "0  AK Steel, Inc.    Middletown             OH              US   \n",
       "1  AK Steel, Inc.    Middletown             OH              US   \n",
       "2  AK Steel, Inc.    Middletown             OH              US   \n",
       "3      Agrium CPO  Soda Springs             ID      Caribou Co   \n",
       "4      Agrium CPO  Soda Springs             ID      Caribou Co   \n",
       "\n",
       "  Facility_Zip_Code  Facility_Latitude  Facility_Longitude     Pollutant_Name  \\\n",
       "0             45043                NaN                 NaN  Hydrogen Chloride   \n",
       "1             45043                NaN                 NaN  Hydrogen Chloride   \n",
       "2             45043                NaN                 NaN  Hydrogen Chloride   \n",
       "3             83276                NaN                 NaN     Total Fluoride   \n",
       "4             83276                NaN                 NaN     Total Fluoride   \n",
       "\n",
       "         Test_Run_Date  \n",
       "0  2016-11-23T00:00:00  \n",
       "1  2016-11-23T00:00:00  \n",
       "2  2016-11-23T00:00:00  \n",
       "3  2016-03-24T00:00:00  \n",
       "4  2016-03-24T00:00:00  "
      ]
     },
     "execution_count": 4,
     "metadata": {},
     "output_type": "execute_result"
    }
   ],
   "source": [
    "df = df[['Facility_Name','Facility_City','Facility_State','Facility_County','Facility_Zip_Code','Facility_Latitude','Facility_Longitude','Pollutant_Name','Test_Run_Date']]\n",
    "df.head()"
   ]
  },
  {
   "cell_type": "code",
   "execution_count": 5,
   "id": "73196683",
   "metadata": {},
   "outputs": [],
   "source": [
    "df.drop_duplicates(keep='first', ignore_index=True, inplace=True)"
   ]
  },
  {
   "cell_type": "code",
   "execution_count": 6,
   "id": "c9e90d8f",
   "metadata": {},
   "outputs": [
    {
     "name": "stdout",
     "output_type": "stream",
     "text": [
      "Duplicate entries: 0\n"
     ]
    }
   ],
   "source": [
    "# Find duplicates entries\n",
    "\n",
    "print(f\"Duplicate entries: {df.duplicated().sum()}\")"
   ]
  },
  {
   "cell_type": "code",
   "execution_count": 7,
   "id": "0f7e6b31",
   "metadata": {},
   "outputs": [
    {
     "data": {
      "text/plain": [
       "array(['Hydrogen Chloride', 'Total Fluoride', 'Carbon Dioxide',\n",
       "       'Filterable Particulate', 'Oxygen', 'Total Particulate',\n",
       "       'Sulfur Dioxide', 'Arsenic', 'Beryllium', 'Cadmium',\n",
       "       'Carbon Monoxide', 'Chromium', 'Lead', 'Manganese', 'Nickel',\n",
       "       'Selenium', 'Nitrogen oxides (NOx)', 'Mercury', 'Total TEQ',\n",
       "       '1,2,3,4,6,7,8-HpCDD', '1,2,3,4,6,7,8-HpCDF',\n",
       "       '1,2,3,4,7,8,9-HpCDF', '1,2,3,4,7,8-HxCDD', '1,2,3,4,7,8-HxCDF',\n",
       "       '1,2,3,6,7,8-HxCDD', '1,2,3,6,7,8-HxCDF', '1,2,3,7,8,9-HxCDD',\n",
       "       '1,2,3,7,8,9-HxCDF', '1,2,3,7,8-PeCDD', '1,2,3,7,8-PeCDF',\n",
       "       '2,3,4,6,7,8-HxCDF', '2,3,4,7,8-PeCDF', '2,3,7,8-TCDD',\n",
       "       '2,3,7,8-TCDF', 'Hydrogen Fluoride', 'OCDD', 'OCDF', 'Other HpCDD',\n",
       "       'Other HpCDF', 'Other HxCDD', 'Other HxCDF', 'Other PeCDD',\n",
       "       'Other PeCDF', 'Other TCDD', 'Other TCDF', 'Total Dioxins',\n",
       "       'Total Furans', 'Mercury Back Half', 'Mercury Front Half',\n",
       "       'Methylene Chloride Extractable Matter (MCEM)',\n",
       "       'Particulate Matter (PM)',\n",
       "       'Total organic compounds (TOC) as Propane'], dtype=object)"
      ]
     },
     "execution_count": 7,
     "metadata": {},
     "output_type": "execute_result"
    }
   ],
   "source": [
    "df.Pollutant_Name.unique()"
   ]
  },
  {
   "cell_type": "code",
   "execution_count": 8,
   "id": "8d332020",
   "metadata": {},
   "outputs": [],
   "source": [
    "# Dropping row where pollutant is Oxygen\n",
    "df.drop(df[df['Pollutant_Name'] == 'Oxygen'].index, inplace = True)"
   ]
  },
  {
   "cell_type": "code",
   "execution_count": 9,
   "id": "1d724d03",
   "metadata": {},
   "outputs": [
    {
     "data": {
      "text/plain": [
       "array(['Hydrogen Chloride', 'Total Fluoride', 'Carbon Dioxide',\n",
       "       'Filterable Particulate', 'Total Particulate', 'Sulfur Dioxide',\n",
       "       'Arsenic', 'Beryllium', 'Cadmium', 'Carbon Monoxide', 'Chromium',\n",
       "       'Lead', 'Manganese', 'Nickel', 'Selenium', 'Nitrogen oxides (NOx)',\n",
       "       'Mercury', 'Total TEQ', '1,2,3,4,6,7,8-HpCDD',\n",
       "       '1,2,3,4,6,7,8-HpCDF', '1,2,3,4,7,8,9-HpCDF', '1,2,3,4,7,8-HxCDD',\n",
       "       '1,2,3,4,7,8-HxCDF', '1,2,3,6,7,8-HxCDD', '1,2,3,6,7,8-HxCDF',\n",
       "       '1,2,3,7,8,9-HxCDD', '1,2,3,7,8,9-HxCDF', '1,2,3,7,8-PeCDD',\n",
       "       '1,2,3,7,8-PeCDF', '2,3,4,6,7,8-HxCDF', '2,3,4,7,8-PeCDF',\n",
       "       '2,3,7,8-TCDD', '2,3,7,8-TCDF', 'Hydrogen Fluoride', 'OCDD',\n",
       "       'OCDF', 'Other HpCDD', 'Other HpCDF', 'Other HxCDD', 'Other HxCDF',\n",
       "       'Other PeCDD', 'Other PeCDF', 'Other TCDD', 'Other TCDF',\n",
       "       'Total Dioxins', 'Total Furans', 'Mercury Back Half',\n",
       "       'Mercury Front Half',\n",
       "       'Methylene Chloride Extractable Matter (MCEM)',\n",
       "       'Particulate Matter (PM)',\n",
       "       'Total organic compounds (TOC) as Propane'], dtype=object)"
      ]
     },
     "execution_count": 9,
     "metadata": {},
     "output_type": "execute_result"
    }
   ],
   "source": [
    "df.Pollutant_Name.unique()"
   ]
  },
  {
   "cell_type": "code",
   "execution_count": 10,
   "id": "1b4aeea6",
   "metadata": {},
   "outputs": [
    {
     "data": {
      "text/html": [
       "<div>\n",
       "<style scoped>\n",
       "    .dataframe tbody tr th:only-of-type {\n",
       "        vertical-align: middle;\n",
       "    }\n",
       "\n",
       "    .dataframe tbody tr th {\n",
       "        vertical-align: top;\n",
       "    }\n",
       "\n",
       "    .dataframe thead th {\n",
       "        text-align: right;\n",
       "    }\n",
       "</style>\n",
       "<table border=\"1\" class=\"dataframe\">\n",
       "  <thead>\n",
       "    <tr style=\"text-align: right;\">\n",
       "      <th></th>\n",
       "      <th>Facility_Name</th>\n",
       "      <th>Facility_City</th>\n",
       "      <th>Facility_State</th>\n",
       "      <th>Facility_County</th>\n",
       "      <th>Facility_Zip_Code</th>\n",
       "      <th>Facility_Latitude</th>\n",
       "      <th>Facility_Longitude</th>\n",
       "      <th>Pollutant_Name</th>\n",
       "      <th>Test_Run_Date</th>\n",
       "      <th>datetime</th>\n",
       "    </tr>\n",
       "  </thead>\n",
       "  <tbody>\n",
       "    <tr>\n",
       "      <th>0</th>\n",
       "      <td>AK Steel, Inc.</td>\n",
       "      <td>Middletown</td>\n",
       "      <td>OH</td>\n",
       "      <td>US</td>\n",
       "      <td>45043</td>\n",
       "      <td>NaN</td>\n",
       "      <td>NaN</td>\n",
       "      <td>Hydrogen Chloride</td>\n",
       "      <td>2016-11-23T00:00:00</td>\n",
       "      <td>2016-11-23</td>\n",
       "    </tr>\n",
       "    <tr>\n",
       "      <th>1</th>\n",
       "      <td>Agrium CPO</td>\n",
       "      <td>Soda Springs</td>\n",
       "      <td>ID</td>\n",
       "      <td>Caribou Co</td>\n",
       "      <td>83276</td>\n",
       "      <td>NaN</td>\n",
       "      <td>NaN</td>\n",
       "      <td>Total Fluoride</td>\n",
       "      <td>2016-03-24T00:00:00</td>\n",
       "      <td>2016-03-24</td>\n",
       "    </tr>\n",
       "    <tr>\n",
       "      <th>2</th>\n",
       "      <td>AK Steel, Inc.</td>\n",
       "      <td>Middletown</td>\n",
       "      <td>OH</td>\n",
       "      <td>US</td>\n",
       "      <td>45043</td>\n",
       "      <td>NaN</td>\n",
       "      <td>NaN</td>\n",
       "      <td>Hydrogen Chloride</td>\n",
       "      <td>2017-01-05T00:00:00</td>\n",
       "      <td>2017-01-05</td>\n",
       "    </tr>\n",
       "    <tr>\n",
       "      <th>3</th>\n",
       "      <td>Agrium CPO</td>\n",
       "      <td>Soda Springs</td>\n",
       "      <td>ID</td>\n",
       "      <td>Caribou Co</td>\n",
       "      <td>83276</td>\n",
       "      <td>NaN</td>\n",
       "      <td>NaN</td>\n",
       "      <td>Total Fluoride</td>\n",
       "      <td>2016-03-23T00:00:00</td>\n",
       "      <td>2016-03-23</td>\n",
       "    </tr>\n",
       "    <tr>\n",
       "      <th>4</th>\n",
       "      <td>AK Steel, Inc.</td>\n",
       "      <td>Middletown</td>\n",
       "      <td>OH</td>\n",
       "      <td>US</td>\n",
       "      <td>45043</td>\n",
       "      <td>NaN</td>\n",
       "      <td>NaN</td>\n",
       "      <td>Hydrogen Chloride</td>\n",
       "      <td>2017-01-19T00:00:00</td>\n",
       "      <td>2017-01-19</td>\n",
       "    </tr>\n",
       "  </tbody>\n",
       "</table>\n",
       "</div>"
      ],
      "text/plain": [
       "    Facility_Name Facility_City Facility_State Facility_County  \\\n",
       "0  AK Steel, Inc.    Middletown             OH              US   \n",
       "1      Agrium CPO  Soda Springs             ID      Caribou Co   \n",
       "2  AK Steel, Inc.    Middletown             OH              US   \n",
       "3      Agrium CPO  Soda Springs             ID      Caribou Co   \n",
       "4  AK Steel, Inc.    Middletown             OH              US   \n",
       "\n",
       "  Facility_Zip_Code  Facility_Latitude  Facility_Longitude     Pollutant_Name  \\\n",
       "0             45043                NaN                 NaN  Hydrogen Chloride   \n",
       "1             83276                NaN                 NaN     Total Fluoride   \n",
       "2             45043                NaN                 NaN  Hydrogen Chloride   \n",
       "3             83276                NaN                 NaN     Total Fluoride   \n",
       "4             45043                NaN                 NaN  Hydrogen Chloride   \n",
       "\n",
       "         Test_Run_Date   datetime  \n",
       "0  2016-11-23T00:00:00 2016-11-23  \n",
       "1  2016-03-24T00:00:00 2016-03-24  \n",
       "2  2017-01-05T00:00:00 2017-01-05  \n",
       "3  2016-03-23T00:00:00 2016-03-23  \n",
       "4  2017-01-19T00:00:00 2017-01-19  "
      ]
     },
     "execution_count": 10,
     "metadata": {},
     "output_type": "execute_result"
    }
   ],
   "source": [
    "df['datetime'] = pd.to_datetime(df['Test_Run_Date'])\n",
    "df.head()\n"
   ]
  },
  {
   "cell_type": "code",
   "execution_count": 11,
   "id": "dc0d4836",
   "metadata": {},
   "outputs": [
    {
     "name": "stdout",
     "output_type": "stream",
     "text": [
      "<class 'pandas.core.frame.DataFrame'>\n",
      "Int64Index: 371 entries, 0 to 398\n",
      "Data columns (total 10 columns):\n",
      " #   Column              Non-Null Count  Dtype         \n",
      "---  ------              --------------  -----         \n",
      " 0   Facility_Name       371 non-null    object        \n",
      " 1   Facility_City       371 non-null    object        \n",
      " 2   Facility_State      371 non-null    object        \n",
      " 3   Facility_County     371 non-null    object        \n",
      " 4   Facility_Zip_Code   371 non-null    object        \n",
      " 5   Facility_Latitude   105 non-null    float64       \n",
      " 6   Facility_Longitude  105 non-null    float64       \n",
      " 7   Pollutant_Name      371 non-null    object        \n",
      " 8   Test_Run_Date       371 non-null    object        \n",
      " 9   datetime            371 non-null    datetime64[ns]\n",
      "dtypes: datetime64[ns](1), float64(2), object(7)\n",
      "memory usage: 31.9+ KB\n"
     ]
    }
   ],
   "source": [
    "df.info()"
   ]
  },
  {
   "cell_type": "code",
   "execution_count": 12,
   "id": "abeeca8a",
   "metadata": {},
   "outputs": [],
   "source": [
    "df['Year'] = df['datetime'].dt.year"
   ]
  },
  {
   "cell_type": "code",
   "execution_count": 13,
   "id": "a3c79f50",
   "metadata": {},
   "outputs": [],
   "source": [
    "df.drop(df[df['Year'] < 2017].index, inplace = True)"
   ]
  },
  {
   "cell_type": "code",
   "execution_count": 14,
   "id": "d85d4891",
   "metadata": {},
   "outputs": [
    {
     "name": "stdout",
     "output_type": "stream",
     "text": [
      "<class 'pandas.core.frame.DataFrame'>\n",
      "Int64Index: 291 entries, 2 to 398\n",
      "Data columns (total 11 columns):\n",
      " #   Column              Non-Null Count  Dtype         \n",
      "---  ------              --------------  -----         \n",
      " 0   Facility_Name       291 non-null    object        \n",
      " 1   Facility_City       291 non-null    object        \n",
      " 2   Facility_State      291 non-null    object        \n",
      " 3   Facility_County     291 non-null    object        \n",
      " 4   Facility_Zip_Code   291 non-null    object        \n",
      " 5   Facility_Latitude   92 non-null     float64       \n",
      " 6   Facility_Longitude  92 non-null     float64       \n",
      " 7   Pollutant_Name      291 non-null    object        \n",
      " 8   Test_Run_Date       291 non-null    object        \n",
      " 9   datetime            291 non-null    datetime64[ns]\n",
      " 10  Year                291 non-null    int64         \n",
      "dtypes: datetime64[ns](1), float64(2), int64(1), object(7)\n",
      "memory usage: 27.3+ KB\n"
     ]
    }
   ],
   "source": [
    "df.info()"
   ]
  },
  {
   "cell_type": "code",
   "execution_count": 15,
   "id": "c40fe654",
   "metadata": {},
   "outputs": [
    {
     "data": {
      "text/html": [
       "<div>\n",
       "<style scoped>\n",
       "    .dataframe tbody tr th:only-of-type {\n",
       "        vertical-align: middle;\n",
       "    }\n",
       "\n",
       "    .dataframe tbody tr th {\n",
       "        vertical-align: top;\n",
       "    }\n",
       "\n",
       "    .dataframe thead th {\n",
       "        text-align: right;\n",
       "    }\n",
       "</style>\n",
       "<table border=\"1\" class=\"dataframe\">\n",
       "  <thead>\n",
       "    <tr style=\"text-align: right;\">\n",
       "      <th></th>\n",
       "      <th>Facility_Name</th>\n",
       "      <th>Facility_City</th>\n",
       "      <th>Facility_State</th>\n",
       "      <th>Facility_County</th>\n",
       "      <th>Facility_Zip_Code</th>\n",
       "      <th>Facility_Latitude</th>\n",
       "      <th>Facility_Longitude</th>\n",
       "    </tr>\n",
       "  </thead>\n",
       "  <tbody>\n",
       "    <tr>\n",
       "      <th>2</th>\n",
       "      <td>AK Steel, Inc.</td>\n",
       "      <td>Middletown</td>\n",
       "      <td>OH</td>\n",
       "      <td>US</td>\n",
       "      <td>45043</td>\n",
       "      <td>NaN</td>\n",
       "      <td>NaN</td>\n",
       "    </tr>\n",
       "    <tr>\n",
       "      <th>4</th>\n",
       "      <td>AK Steel, Inc.</td>\n",
       "      <td>Middletown</td>\n",
       "      <td>OH</td>\n",
       "      <td>US</td>\n",
       "      <td>45043</td>\n",
       "      <td>NaN</td>\n",
       "      <td>NaN</td>\n",
       "    </tr>\n",
       "    <tr>\n",
       "      <th>5</th>\n",
       "      <td>AK Steel, Inc.</td>\n",
       "      <td>Middletown</td>\n",
       "      <td>OH</td>\n",
       "      <td>US</td>\n",
       "      <td>45043</td>\n",
       "      <td>NaN</td>\n",
       "      <td>NaN</td>\n",
       "    </tr>\n",
       "    <tr>\n",
       "      <th>6</th>\n",
       "      <td>IPL - Burlington Generating Station</td>\n",
       "      <td>Burlington</td>\n",
       "      <td>IA</td>\n",
       "      <td>Des Moines Co</td>\n",
       "      <td>52601</td>\n",
       "      <td>40.741591</td>\n",
       "      <td>-91.118781</td>\n",
       "    </tr>\n",
       "    <tr>\n",
       "      <th>7</th>\n",
       "      <td>IPL - Burlington Generating Station</td>\n",
       "      <td>Burlington</td>\n",
       "      <td>IA</td>\n",
       "      <td>Des Moines Co</td>\n",
       "      <td>52601</td>\n",
       "      <td>40.741591</td>\n",
       "      <td>-91.118781</td>\n",
       "    </tr>\n",
       "  </tbody>\n",
       "</table>\n",
       "</div>"
      ],
      "text/plain": [
       "                         Facility_Name Facility_City Facility_State  \\\n",
       "2                       AK Steel, Inc.    Middletown             OH   \n",
       "4                       AK Steel, Inc.    Middletown             OH   \n",
       "5                       AK Steel, Inc.    Middletown             OH   \n",
       "6  IPL - Burlington Generating Station    Burlington             IA   \n",
       "7  IPL - Burlington Generating Station    Burlington             IA   \n",
       "\n",
       "  Facility_County Facility_Zip_Code  Facility_Latitude  Facility_Longitude  \n",
       "2              US             45043                NaN                 NaN  \n",
       "4              US             45043                NaN                 NaN  \n",
       "5              US             45043                NaN                 NaN  \n",
       "6   Des Moines Co             52601          40.741591          -91.118781  \n",
       "7   Des Moines Co             52601          40.741591          -91.118781  "
      ]
     },
     "execution_count": 15,
     "metadata": {},
     "output_type": "execute_result"
    }
   ],
   "source": [
    "newdf = df.drop(['Test_Run_Date','datetime','Year','Pollutant_Name'], axis=1)\n",
    "newdf.head()"
   ]
  },
  {
   "cell_type": "code",
   "execution_count": 17,
   "id": "e5021439",
   "metadata": {},
   "outputs": [
    {
     "name": "stdout",
     "output_type": "stream",
     "text": [
      "<class 'pandas.core.frame.DataFrame'>\n",
      "RangeIndex: 34 entries, 0 to 33\n",
      "Data columns (total 7 columns):\n",
      " #   Column              Non-Null Count  Dtype  \n",
      "---  ------              --------------  -----  \n",
      " 0   Facility_Name       34 non-null     object \n",
      " 1   Facility_City       34 non-null     object \n",
      " 2   Facility_State      34 non-null     object \n",
      " 3   Facility_County     34 non-null     object \n",
      " 4   Facility_Zip_Code   34 non-null     object \n",
      " 5   Facility_Latitude   16 non-null     float64\n",
      " 6   Facility_Longitude  16 non-null     float64\n",
      "dtypes: float64(2), object(5)\n",
      "memory usage: 2.0+ KB\n"
     ]
    }
   ],
   "source": [
    "newdf.drop_duplicates(keep='first', ignore_index=True, inplace=True)\n",
    "newdf.info()"
   ]
  },
  {
   "cell_type": "code",
   "execution_count": null,
   "id": "927e27ce",
   "metadata": {},
   "outputs": [],
   "source": [
    "Facility_Zip_Code"
   ]
  },
  {
   "cell_type": "code",
   "execution_count": 18,
   "id": "31d9bd85",
   "metadata": {},
   "outputs": [],
   "source": [
    "# Saving Cleaned data into csv\n",
    "output_file_path = \"../ProcessedData/Point_Source.csv\"\n",
    "newdf.to_csv(output_file_path, index=False)"
   ]
  },
  {
   "cell_type": "markdown",
   "id": "da7007cb",
   "metadata": {},
   "source": [
    "end of code"
   ]
  },
  {
   "cell_type": "code",
   "execution_count": null,
   "id": "1599f5d8",
   "metadata": {},
   "outputs": [],
   "source": []
  }
 ],
 "metadata": {
  "kernelspec": {
   "display_name": "mlenv",
   "language": "python",
   "name": "mlenv"
  },
  "language_info": {
   "codemirror_mode": {
    "name": "ipython",
    "version": 3
   },
   "file_extension": ".py",
   "mimetype": "text/x-python",
   "name": "python",
   "nbconvert_exporter": "python",
   "pygments_lexer": "ipython3",
   "version": "3.7.13"
  }
 },
 "nbformat": 4,
 "nbformat_minor": 5
}
